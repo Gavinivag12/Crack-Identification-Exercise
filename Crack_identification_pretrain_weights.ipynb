{
 "cells": [
  {
   "cell_type": "code",
   "execution_count": null,
   "metadata": {
    "scrolled": false
   },
   "outputs": [
    {
     "name": "stdout",
     "output_type": "stream",
     "text": [
      "Found 8000 images belonging to 4 classes.\n",
      "WARNING:tensorflow:From <ipython-input-1-1cd7635f9097>:28: Model.predict_generator (from tensorflow.python.keras.engine.training) is deprecated and will be removed in a future version.\n",
      "Instructions for updating:\n",
      "Please use Model.predict, which supports generators.\n"
     ]
    }
   ],
   "source": [
    "import numpy as np\n",
    "from keras.preprocessing.image import ImageDataGenerator\n",
    "from keras.models import Sequential\n",
    "from keras.layers import Dropout, Flatten, Dense\n",
    "from keras import applications\n",
    "\n",
    "# dimensions of image\n",
    "img_width, img_height = 512, 512\n",
    "top_model_weights_path = 'bottleneck_fc_model_crack.h5'\n",
    "train_data_dir = 'data2/train'\n",
    "validation_data_dir = 'data2/validation'\n",
    "nb_train_samples = 2000\n",
    "nb_validation_samples = 500\n",
    "epochs = 30\n",
    "batch_size = 25\n",
    "\n",
    "def save_bottlebeck_features():\n",
    "    datagen = ImageDataGenerator(rescale=1. / 255)\n",
    "    \n",
    "# build the VGG16 network\n",
    "    model = applications.VGG16(include_top=False, weights='imagenet')\n",
    "    generator = datagen.flow_from_directory(\n",
    "    train_data_dir,\n",
    "    target_size=(img_width, img_height),\n",
    "    batch_size=batch_size,\n",
    "    class_mode=None,\n",
    "    shuffle=False)\n",
    "    bottleneck_features_train = model.predict_generator(generator, nb_train_samples // batch_size)\n",
    "    np.save('bottleneck_features_train_crack.npy',bottleneck_features_train)\n",
    "    print(\"generator: \" + str(len(generator)))\n",
    "    generator2 = datagen.flow_from_directory(\n",
    "    validation_data_dir,\n",
    "    target_size = (img_width, img_height),\n",
    "    batch_size = batch_size,\n",
    "    class_mode = None,\n",
    "    shuffle = False)\n",
    "    bottleneck_features_validation = model.predict_generator(generator2, nb_validation_samples // batch_size)\n",
    "    print(\"generator2: \" + str(len(generator2)))\n",
    "    print(\"generator2 size:\" + str(nb_validation_samples // batch_size))\n",
    "    np.save('bottleneck_features_validation_crack.npy', bottleneck_features_validation)\n",
    "    \n",
    "def train_top_model():\n",
    "    train_data = np.load('bottleneck_features_train_crack.npy')\n",
    "    train_labels = np.array(\n",
    "        [0] * (nb_train_samples // 2) + [1] * (nb_train_samples // 2))\n",
    "    validation_data = np.load('bottleneck_features_validation_crack.npy')\n",
    "    validation_labels = np.array(\n",
    "        [0] * (nb_validation_samples // 2) + [1] * (nb_validation_samples // 2))\n",
    "    model = Sequential()\n",
    "    model.add(Flatten(input_shape=train_data.shape[1:]))\n",
    "    model.add(Dense(256, activation='relu'))\n",
    "    model.add(Dropout(0.5))\n",
    "    model.add(Dense(1, activation='sigmoid'))\n",
    "    model.compile(optimizer='rmsprop',\n",
    "loss='categorical_crossentropy', metrics=['accuracy'])\n",
    "    model.fit(train_data, train_labels,\n",
    "epochs=epochs,\n",
    "batch_size=batch_size,\n",
    "validation_data=(validation_data, validation_labels))\n",
    "    model.save_weights(top_model_weights_path)\n",
    "save_bottlebeck_features()\n",
    "train_top_model()"
   ]
  },
  {
   "cell_type": "code",
   "execution_count": null,
   "metadata": {},
   "outputs": [],
   "source": []
  },
  {
   "cell_type": "code",
   "execution_count": null,
   "metadata": {},
   "outputs": [],
   "source": []
  }
 ],
 "metadata": {
  "kernelspec": {
   "display_name": "Python 3",
   "language": "python",
   "name": "python3"
  },
  "language_info": {
   "codemirror_mode": {
    "name": "ipython",
    "version": 3
   },
   "file_extension": ".py",
   "mimetype": "text/x-python",
   "name": "python",
   "nbconvert_exporter": "python",
   "pygments_lexer": "ipython3",
   "version": "3.8.3"
  }
 },
 "nbformat": 4,
 "nbformat_minor": 2
}
